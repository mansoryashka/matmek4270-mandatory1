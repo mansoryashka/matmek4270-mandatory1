{
 "cells": [
  {
   "cell_type": "markdown",
   "id": "7d65920a",
   "metadata": {},
   "source": [
    "## Problem 1.2.1"
   ]
  },
  {
   "cell_type": "markdown",
   "id": "5810bb5d",
   "metadata": {},
   "source": [
    "Given the wave equation\n",
    "\n",
    "\\begin{equation}\n",
    "    \\frac{\\partial^2 u}{\\partial t^2} = c^2\\nabla^2u\n",
    "\\end{equation}\n",
    "\n",
    "and the exact solution\n",
    "\n",
    "\\begin{equation}\n",
    "    u(x, y, t) = \\sin(k_xx)\\sin(k_yy)\\cos(\\omega t)\n",
    "\\end{equation}\n",
    "\n",
    "we can derive an equation for the dispersion coefficient $\\omega$ as a function of $c$, $k_x$ and $k_y$.\n",
    "\n",
    "We start by differentiating the exact soulution in time:\n",
    "\n",
    "\\begin{align}\n",
    "    \\frac{\\partial u}{\\partial t} &= \\sin(k_xx)\\sin(k_yy)(-\\omega\\sin(\\omega t)) \\\\\n",
    "    \\Rightarrow \\frac{\\partial^2 u}{\\partial t^2} &= \\sin(k_xx)\\sin(k_yy)(-\\omega^2\\cos(\\omega t)) \\\\\n",
    "    &= -\\omega^2\\sin(k_xx)\\sin(k_yy)\\cos(\\omega t) \\\\\n",
    "    \\Rightarrow \\frac{\\partial^2 u}{\\partial t^2} &= -\\omega^2u \\\\\n",
    "\\end{align}\n",
    "\n",
    "Now we find the double derivative wrt both the spatial variables:\n",
    "\n",
    "\\begin{align}\n",
    "    \\frac{\\partial u}{\\partial x} &= (k_x\\cos(k_xx))\\sin(k_yy)\\cos(\\omega t) \\\\\n",
    "    \\Rightarrow \\frac{\\partial^2 u}{\\partial x^2} &= (-k^2_x\\sin(k_xx))\\sin(k_yy)\\cos(\\omega t) \\\\\n",
    "    &= -k^2_x\\sin(k_xx)\\sin(k_yy)\\cos(\\omega t) \\\\\n",
    "    \\Rightarrow \\frac{\\partial^2 u}{\\partial x^2} &= -k^2_xu\n",
    "\\end{align}\n",
    "\n",
    "The last derivation is also true for $y$, giving us the double derivative:\n",
    "\n",
    "\\begin{align}\n",
    "    \\frac{\\partial^2 u}{\\partial y^2} = -k^2_yu\n",
    "\\end{align}"
   ]
  },
  {
   "cell_type": "markdown",
   "id": "549ce577",
   "metadata": {},
   "source": [
    "We can now use these relations in the wave equation above:\n",
    "\n",
    "\\begin{align}\n",
    "    \\frac{\\partial^2u}{\\partial t^2} &= c^2\\left(\\frac{\\partial^2u}{\\partial x^2} + \\frac{\\partial^2u}{\\partial y^2}\\right)u \\\\\n",
    "    \\Rightarrow -\\omega^2u &= c^2(-k^2_xu - k^2_yu) \\\\\n",
    "    \\Rightarrow -\\omega^2u &= -c^2(k^2_x + k^2_y)u\n",
    "\\end{align}\n",
    "\n",
    "Assuming $u\\neq\\mathbf{0}$, we get the relation:\n",
    "\n",
    "\\begin{align}\n",
    "    \\omega^2 &= c^2(k_x^2 + k_y^2) \\\\\n",
    "    \\omega &= c\\sqrt{k_x^2 + k_y^2)}\n",
    "\\end{align}"
   ]
  },
  {
   "cell_type": "markdown",
   "id": "662bc178",
   "metadata": {},
   "source": []
  }
 ],
 "metadata": {
  "kernelspec": {
   "display_name": "Python 3 (ipykernel)",
   "language": "python",
   "name": "python3"
  },
  "language_info": {
   "codemirror_mode": {
    "name": "ipython",
    "version": 3
   },
   "file_extension": ".py",
   "mimetype": "text/x-python",
   "name": "python",
   "nbconvert_exporter": "python",
   "pygments_lexer": "ipython3",
   "version": "3.10.9"
  }
 },
 "nbformat": 4,
 "nbformat_minor": 5
}
